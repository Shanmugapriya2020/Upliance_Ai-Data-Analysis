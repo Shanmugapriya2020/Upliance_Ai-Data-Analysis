{
 "cells": [
  {
   "cell_type": "code",
   "execution_count": 1,
   "id": "3466e5dd-1319-4b04-90e6-d03e08c2abd6",
   "metadata": {},
   "outputs": [],
   "source": [
    "import pandas as pd\n",
    "import numpy as np\n",
    "import seaborn as sns\n",
    "import matplotlib.pyplot as plt"
   ]
  },
  {
   "cell_type": "code",
   "execution_count": 2,
   "id": "9688d7d7-2bd2-46fe-9ba1-e466127fa088",
   "metadata": {},
   "outputs": [],
   "source": [
    "df=pd.read_excel(r'C:/Users/Suga/Downloads/Data Analyst Intern Assignment - Excel.xlsx')"
   ]
  },
  {
   "cell_type": "code",
   "execution_count": 9,
   "id": "b3d03aab-0795-49f6-a06d-c65ac1c5efb8",
   "metadata": {},
   "outputs": [
    {
     "data": {
      "text/html": [
       "<div>\n",
       "<style scoped>\n",
       "    .dataframe tbody tr th:only-of-type {\n",
       "        vertical-align: middle;\n",
       "    }\n",
       "\n",
       "    .dataframe tbody tr th {\n",
       "        vertical-align: top;\n",
       "    }\n",
       "\n",
       "    .dataframe thead th {\n",
       "        text-align: right;\n",
       "    }\n",
       "</style>\n",
       "<table border=\"1\" class=\"dataframe\">\n",
       "  <thead>\n",
       "    <tr style=\"text-align: right;\">\n",
       "      <th></th>\n",
       "      <th>User ID</th>\n",
       "      <th>User Name</th>\n",
       "      <th>Age</th>\n",
       "      <th>Location</th>\n",
       "      <th>Registration Date</th>\n",
       "      <th>Phone</th>\n",
       "      <th>Email</th>\n",
       "      <th>Favorite Meal</th>\n",
       "      <th>Total Orders</th>\n",
       "    </tr>\n",
       "  </thead>\n",
       "  <tbody>\n",
       "    <tr>\n",
       "      <th>0</th>\n",
       "      <td>U001</td>\n",
       "      <td>Alice Johnson</td>\n",
       "      <td>28</td>\n",
       "      <td>New York</td>\n",
       "      <td>2023-01-15</td>\n",
       "      <td>123-456-7890</td>\n",
       "      <td>alice@email.com</td>\n",
       "      <td>Dinner</td>\n",
       "      <td>12</td>\n",
       "    </tr>\n",
       "    <tr>\n",
       "      <th>1</th>\n",
       "      <td>U002</td>\n",
       "      <td>Bob Smith</td>\n",
       "      <td>35</td>\n",
       "      <td>Los Angeles</td>\n",
       "      <td>2023-02-20</td>\n",
       "      <td>987-654-3210</td>\n",
       "      <td>bob@email.com</td>\n",
       "      <td>Lunch</td>\n",
       "      <td>8</td>\n",
       "    </tr>\n",
       "    <tr>\n",
       "      <th>2</th>\n",
       "      <td>U003</td>\n",
       "      <td>Charlie Lee</td>\n",
       "      <td>42</td>\n",
       "      <td>Chicago</td>\n",
       "      <td>2023-03-10</td>\n",
       "      <td>555-123-4567</td>\n",
       "      <td>charlie@email.com</td>\n",
       "      <td>Breakfast</td>\n",
       "      <td>15</td>\n",
       "    </tr>\n",
       "    <tr>\n",
       "      <th>3</th>\n",
       "      <td>U004</td>\n",
       "      <td>David Brown</td>\n",
       "      <td>27</td>\n",
       "      <td>San Francisco</td>\n",
       "      <td>2023-04-05</td>\n",
       "      <td>444-333-2222</td>\n",
       "      <td>david@email.com</td>\n",
       "      <td>Dinner</td>\n",
       "      <td>10</td>\n",
       "    </tr>\n",
       "    <tr>\n",
       "      <th>4</th>\n",
       "      <td>U005</td>\n",
       "      <td>Emma White</td>\n",
       "      <td>30</td>\n",
       "      <td>Seattle</td>\n",
       "      <td>2023-05-22</td>\n",
       "      <td>777-888-9999</td>\n",
       "      <td>emma@email.com</td>\n",
       "      <td>Lunch</td>\n",
       "      <td>9</td>\n",
       "    </tr>\n",
       "  </tbody>\n",
       "</table>\n",
       "</div>"
      ],
      "text/plain": [
       "  User ID      User Name  Age       Location Registration Date         Phone  \\\n",
       "0    U001  Alice Johnson   28       New York        2023-01-15  123-456-7890   \n",
       "1    U002      Bob Smith   35    Los Angeles        2023-02-20  987-654-3210   \n",
       "2    U003    Charlie Lee   42        Chicago        2023-03-10  555-123-4567   \n",
       "3    U004    David Brown   27  San Francisco        2023-04-05  444-333-2222   \n",
       "4    U005     Emma White   30        Seattle        2023-05-22  777-888-9999   \n",
       "\n",
       "               Email Favorite Meal  Total Orders  \n",
       "0    alice@email.com        Dinner            12  \n",
       "1      bob@email.com         Lunch             8  \n",
       "2  charlie@email.com     Breakfast            15  \n",
       "3    david@email.com        Dinner            10  \n",
       "4     emma@email.com         Lunch             9  "
      ]
     },
     "execution_count": 9,
     "metadata": {},
     "output_type": "execute_result"
    }
   ],
   "source": [
    "df.head()"
   ]
  },
  {
   "cell_type": "code",
   "execution_count": 29,
   "id": "f4083acb-9af2-4abb-b48a-7c3fa709a802",
   "metadata": {},
   "outputs": [
    {
     "data": {
      "text/plain": [
       "Location\n",
       "Austin           1\n",
       "Boston           1\n",
       "Chicago          9\n",
       "Dallas           1\n",
       "Los Angeles      9\n",
       "Miami            1\n",
       "New York         9\n",
       "Phoenix          1\n",
       "San Francisco    4\n",
       "Seattle          4\n",
       "Name: Total Orders, dtype: int64"
      ]
     },
     "execution_count": 29,
     "metadata": {},
     "output_type": "execute_result"
    }
   ],
   "source": [
    "merged_data.groupby('Location')['Total Orders'].count()"
   ]
  },
  {
   "cell_type": "code",
   "execution_count": null,
   "id": "4a16fe12-8951-431b-b7e8-187008c84f2b",
   "metadata": {},
   "outputs": [],
   "source": [
    "# Chicago, Los Angeles, and New York have the highest number of orders, each with 9 orders. These cities are likely to have a larger customer base or more active users in the system.\n",
    "\n",
    "#The data shows a mix of both major cities (like New York, Los Angeles, and Chicago) and smaller cities. Major urban areas tend to have higher activity levels due to their larger population and possibly more diverse dining options.\n",
    "#For locations with fewer orders, like Austin, Boston, or Phoenix, there may be potential for marketing efforts or special promotions to boost engagement and increase orders in these areas.\n",
    "#Conversely, cities with higher orders like New York or Los Angeles may benefit from personalized promotions or loyalty programs to retain their customers and maintain high engagement."
   ]
  },
  {
   "cell_type": "code",
   "execution_count": 19,
   "id": "198f03bf-bcaa-4b0e-bbf9-52f933fd79ac",
   "metadata": {},
   "outputs": [],
   "source": [
    "df1=pd.read_excel(r'C:/Users/Suga/Downloads/Data Analyst Intern Assignment - Excel.xlsx', sheet_name=1)\n"
   ]
  },
  {
   "cell_type": "code",
   "execution_count": 53,
   "id": "e21d4985-f4e3-4d07-bf00-8453c1095516",
   "metadata": {},
   "outputs": [
    {
     "data": {
      "text/html": [
       "<div>\n",
       "<style scoped>\n",
       "    .dataframe tbody tr th:only-of-type {\n",
       "        vertical-align: middle;\n",
       "    }\n",
       "\n",
       "    .dataframe tbody tr th {\n",
       "        vertical-align: top;\n",
       "    }\n",
       "\n",
       "    .dataframe thead th {\n",
       "        text-align: right;\n",
       "    }\n",
       "</style>\n",
       "<table border=\"1\" class=\"dataframe\">\n",
       "  <thead>\n",
       "    <tr style=\"text-align: right;\">\n",
       "      <th></th>\n",
       "      <th>Session ID</th>\n",
       "      <th>User ID</th>\n",
       "      <th>Dish Name</th>\n",
       "      <th>Meal Type</th>\n",
       "      <th>Session Start</th>\n",
       "      <th>Session End</th>\n",
       "      <th>Duration (mins)</th>\n",
       "      <th>Session Rating</th>\n",
       "    </tr>\n",
       "  </thead>\n",
       "  <tbody>\n",
       "    <tr>\n",
       "      <th>0</th>\n",
       "      <td>S001</td>\n",
       "      <td>U001</td>\n",
       "      <td>Spaghetti</td>\n",
       "      <td>Dinner</td>\n",
       "      <td>2024-12-01 19:00:00</td>\n",
       "      <td>2024-12-01 19:30:00</td>\n",
       "      <td>30</td>\n",
       "      <td>4.5</td>\n",
       "    </tr>\n",
       "    <tr>\n",
       "      <th>1</th>\n",
       "      <td>S002</td>\n",
       "      <td>U002</td>\n",
       "      <td>Caesar Salad</td>\n",
       "      <td>Lunch</td>\n",
       "      <td>2024-12-01 12:00:00</td>\n",
       "      <td>2024-12-01 12:20:00</td>\n",
       "      <td>20</td>\n",
       "      <td>4.0</td>\n",
       "    </tr>\n",
       "    <tr>\n",
       "      <th>2</th>\n",
       "      <td>S003</td>\n",
       "      <td>U003</td>\n",
       "      <td>Grilled Chicken</td>\n",
       "      <td>Dinner</td>\n",
       "      <td>2024-12-02 19:30:00</td>\n",
       "      <td>2024-12-02 20:10:00</td>\n",
       "      <td>40</td>\n",
       "      <td>4.8</td>\n",
       "    </tr>\n",
       "    <tr>\n",
       "      <th>3</th>\n",
       "      <td>S004</td>\n",
       "      <td>U001</td>\n",
       "      <td>Pancakes</td>\n",
       "      <td>Breakfast</td>\n",
       "      <td>2024-12-02 07:30:00</td>\n",
       "      <td>2024-12-02 08:00:00</td>\n",
       "      <td>30</td>\n",
       "      <td>4.2</td>\n",
       "    </tr>\n",
       "    <tr>\n",
       "      <th>4</th>\n",
       "      <td>S005</td>\n",
       "      <td>U004</td>\n",
       "      <td>Caesar Salad</td>\n",
       "      <td>Lunch</td>\n",
       "      <td>2024-12-03 13:00:00</td>\n",
       "      <td>2024-12-03 13:15:00</td>\n",
       "      <td>15</td>\n",
       "      <td>4.7</td>\n",
       "    </tr>\n",
       "  </tbody>\n",
       "</table>\n",
       "</div>"
      ],
      "text/plain": [
       "  Session ID User ID        Dish Name  Meal Type       Session Start  \\\n",
       "0       S001    U001        Spaghetti     Dinner 2024-12-01 19:00:00   \n",
       "1       S002    U002     Caesar Salad      Lunch 2024-12-01 12:00:00   \n",
       "2       S003    U003  Grilled Chicken     Dinner 2024-12-02 19:30:00   \n",
       "3       S004    U001         Pancakes  Breakfast 2024-12-02 07:30:00   \n",
       "4       S005    U004     Caesar Salad      Lunch 2024-12-03 13:00:00   \n",
       "\n",
       "          Session End  Duration (mins)  Session Rating  \n",
       "0 2024-12-01 19:30:00               30             4.5  \n",
       "1 2024-12-01 12:20:00               20             4.0  \n",
       "2 2024-12-02 20:10:00               40             4.8  \n",
       "3 2024-12-02 08:00:00               30             4.2  \n",
       "4 2024-12-03 13:15:00               15             4.7  "
      ]
     },
     "execution_count": 53,
     "metadata": {},
     "output_type": "execute_result"
    }
   ],
   "source": [
    "df1.head()"
   ]
  },
  {
   "cell_type": "code",
   "execution_count": 21,
   "id": "d9dea7eb-8bbc-44a3-9d4d-76935c81d188",
   "metadata": {},
   "outputs": [
    {
     "data": {
      "text/html": [
       "<div>\n",
       "<style scoped>\n",
       "    .dataframe tbody tr th:only-of-type {\n",
       "        vertical-align: middle;\n",
       "    }\n",
       "\n",
       "    .dataframe tbody tr th {\n",
       "        vertical-align: top;\n",
       "    }\n",
       "\n",
       "    .dataframe thead th {\n",
       "        text-align: right;\n",
       "    }\n",
       "</style>\n",
       "<table border=\"1\" class=\"dataframe\">\n",
       "  <thead>\n",
       "    <tr style=\"text-align: right;\">\n",
       "      <th></th>\n",
       "      <th>Order ID</th>\n",
       "      <th>User ID</th>\n",
       "      <th>Order Date</th>\n",
       "      <th>Meal Type</th>\n",
       "      <th>Dish Name</th>\n",
       "      <th>Order Status</th>\n",
       "      <th>Amount (USD)</th>\n",
       "      <th>Time of Day</th>\n",
       "      <th>Rating</th>\n",
       "      <th>Session ID</th>\n",
       "    </tr>\n",
       "  </thead>\n",
       "  <tbody>\n",
       "    <tr>\n",
       "      <th>0</th>\n",
       "      <td>1001</td>\n",
       "      <td>U001</td>\n",
       "      <td>2024-12-01</td>\n",
       "      <td>Dinner</td>\n",
       "      <td>Spaghetti</td>\n",
       "      <td>Completed</td>\n",
       "      <td>15.0</td>\n",
       "      <td>Night</td>\n",
       "      <td>5.0</td>\n",
       "      <td>S001</td>\n",
       "    </tr>\n",
       "    <tr>\n",
       "      <th>1</th>\n",
       "      <td>1002</td>\n",
       "      <td>U002</td>\n",
       "      <td>2024-12-01</td>\n",
       "      <td>Lunch</td>\n",
       "      <td>Caesar Salad</td>\n",
       "      <td>Completed</td>\n",
       "      <td>10.0</td>\n",
       "      <td>Day</td>\n",
       "      <td>4.0</td>\n",
       "      <td>S002</td>\n",
       "    </tr>\n",
       "    <tr>\n",
       "      <th>2</th>\n",
       "      <td>1003</td>\n",
       "      <td>U003</td>\n",
       "      <td>2024-12-02</td>\n",
       "      <td>Dinner</td>\n",
       "      <td>Grilled Chicken</td>\n",
       "      <td>Canceled</td>\n",
       "      <td>12.5</td>\n",
       "      <td>Night</td>\n",
       "      <td>NaN</td>\n",
       "      <td>S003</td>\n",
       "    </tr>\n",
       "    <tr>\n",
       "      <th>3</th>\n",
       "      <td>1004</td>\n",
       "      <td>U001</td>\n",
       "      <td>2024-12-02</td>\n",
       "      <td>Breakfast</td>\n",
       "      <td>Pancakes</td>\n",
       "      <td>Completed</td>\n",
       "      <td>8.0</td>\n",
       "      <td>Morning</td>\n",
       "      <td>4.0</td>\n",
       "      <td>S004</td>\n",
       "    </tr>\n",
       "    <tr>\n",
       "      <th>4</th>\n",
       "      <td>1005</td>\n",
       "      <td>U004</td>\n",
       "      <td>2024-12-03</td>\n",
       "      <td>Lunch</td>\n",
       "      <td>Caesar Salad</td>\n",
       "      <td>Completed</td>\n",
       "      <td>9.0</td>\n",
       "      <td>Day</td>\n",
       "      <td>4.0</td>\n",
       "      <td>S005</td>\n",
       "    </tr>\n",
       "  </tbody>\n",
       "</table>\n",
       "</div>"
      ],
      "text/plain": [
       "   Order ID User ID Order Date  Meal Type        Dish Name Order Status  \\\n",
       "0      1001    U001 2024-12-01     Dinner        Spaghetti    Completed   \n",
       "1      1002    U002 2024-12-01      Lunch     Caesar Salad    Completed   \n",
       "2      1003    U003 2024-12-02     Dinner  Grilled Chicken     Canceled   \n",
       "3      1004    U001 2024-12-02  Breakfast         Pancakes    Completed   \n",
       "4      1005    U004 2024-12-03      Lunch     Caesar Salad    Completed   \n",
       "\n",
       "   Amount (USD) Time of Day  Rating Session ID  \n",
       "0          15.0       Night     5.0       S001  \n",
       "1          10.0         Day     4.0       S002  \n",
       "2          12.5       Night     NaN       S003  \n",
       "3           8.0     Morning     4.0       S004  \n",
       "4           9.0         Day     4.0       S005  "
      ]
     },
     "execution_count": 21,
     "metadata": {},
     "output_type": "execute_result"
    }
   ],
   "source": [
    "df2=pd.read_excel(r'C:/Users/Suga/Downloads/Data Analyst Intern Assignment - Excel.xlsx', sheet_name=2)\n",
    "df2.head()\n"
   ]
  },
  {
   "cell_type": "code",
   "execution_count": 57,
   "id": "accdb5aa-ddda-4c2f-bdef-e9d2cba8f348",
   "metadata": {},
   "outputs": [],
   "source": [
    "#HANDLE MISSING VALUES"
   ]
  },
  {
   "cell_type": "code",
   "execution_count": 59,
   "id": "ab2d8b82-b237-44ad-a944-7bdf03641095",
   "metadata": {},
   "outputs": [
    {
     "data": {
      "text/plain": [
       "0"
      ]
     },
     "execution_count": 59,
     "metadata": {},
     "output_type": "execute_result"
    }
   ],
   "source": [
    "df.isnull().sum().sum()"
   ]
  },
  {
   "cell_type": "code",
   "execution_count": 61,
   "id": "d49dbf3d-c363-4758-9fd1-3a44269ef9a2",
   "metadata": {},
   "outputs": [
    {
     "data": {
      "text/plain": [
       "0"
      ]
     },
     "execution_count": 61,
     "metadata": {},
     "output_type": "execute_result"
    }
   ],
   "source": [
    "df1.isnull().sum().sum()"
   ]
  },
  {
   "cell_type": "code",
   "execution_count": 23,
   "id": "64bc66a5-f9bb-4a59-a3a0-cf2b6cdd3dd2",
   "metadata": {},
   "outputs": [
    {
     "data": {
      "text/plain": [
       "Order ID        0\n",
       "User ID         0\n",
       "Order Date      0\n",
       "Meal Type       0\n",
       "Dish Name       0\n",
       "Order Status    0\n",
       "Amount (USD)    0\n",
       "Time of Day     0\n",
       "Rating          2\n",
       "Session ID      0\n",
       "dtype: int64"
      ]
     },
     "execution_count": 23,
     "metadata": {},
     "output_type": "execute_result"
    }
   ],
   "source": [
    "df2.isnull().sum()"
   ]
  },
  {
   "cell_type": "markdown",
   "id": "26d2d0a2-25f1-467a-a167-b81e635eb442",
   "metadata": {},
   "source": [
    "#Handling  missing value, as the its small dataset, we are filling null values with forward fill"
   ]
  },
  {
   "cell_type": "code",
   "execution_count": 66,
   "id": "d090ec61-fa0a-423f-9440-cd2b5026b43f",
   "metadata": {},
   "outputs": [
    {
     "data": {
      "text/plain": [
       "(16, 10)"
      ]
     },
     "execution_count": 66,
     "metadata": {},
     "output_type": "execute_result"
    }
   ],
   "source": [
    "df2.shape"
   ]
  },
  {
   "cell_type": "code",
   "execution_count": 25,
   "id": "eaadae94-2841-4f11-a5f0-9ae12d8d05b6",
   "metadata": {},
   "outputs": [
    {
     "name": "stderr",
     "output_type": "stream",
     "text": [
      "C:\\Users\\Suga\\AppData\\Local\\Temp\\ipykernel_16836\\858622053.py:1: FutureWarning: DataFrame.fillna with 'method' is deprecated and will raise in a future version. Use obj.ffill() or obj.bfill() instead.\n",
      "  df2.fillna(method='ffill', inplace=True)\n"
     ]
    }
   ],
   "source": [
    "df2.fillna(method='ffill', inplace=True)"
   ]
  },
  {
   "cell_type": "code",
   "execution_count": 70,
   "id": "2bbdebba-7b29-472e-8704-2a1e1c7ed068",
   "metadata": {},
   "outputs": [
    {
     "data": {
      "text/plain": [
       "Order ID        0\n",
       "User ID         0\n",
       "Order Date      0\n",
       "Meal Type       0\n",
       "Dish Name       0\n",
       "Order Status    0\n",
       "Amount (USD)    0\n",
       "Time of Day     0\n",
       "Rating          0\n",
       "Session ID      0\n",
       "dtype: int64"
      ]
     },
     "execution_count": 70,
     "metadata": {},
     "output_type": "execute_result"
    }
   ],
   "source": [
    "df2.isnull().sum()"
   ]
  },
  {
   "cell_type": "code",
   "execution_count": 72,
   "id": "500c6d31-7db9-4c26-9495-e942d2caa9d9",
   "metadata": {},
   "outputs": [
    {
     "name": "stdout",
     "output_type": "stream",
     "text": [
      "<class 'pandas.core.frame.DataFrame'>\n",
      "RangeIndex: 10 entries, 0 to 9\n",
      "Data columns (total 9 columns):\n",
      " #   Column             Non-Null Count  Dtype         \n",
      "---  ------             --------------  -----         \n",
      " 0   User ID            10 non-null     object        \n",
      " 1   User Name          10 non-null     object        \n",
      " 2   Age                10 non-null     int64         \n",
      " 3   Location           10 non-null     object        \n",
      " 4   Registration Date  10 non-null     datetime64[ns]\n",
      " 5   Phone              10 non-null     object        \n",
      " 6   Email              10 non-null     object        \n",
      " 7   Favorite Meal      10 non-null     object        \n",
      " 8   Total Orders       10 non-null     int64         \n",
      "dtypes: datetime64[ns](1), int64(2), object(6)\n",
      "memory usage: 852.0+ bytes\n"
     ]
    }
   ],
   "source": [
    "df.info()"
   ]
  },
  {
   "cell_type": "code",
   "execution_count": 74,
   "id": "148ef864-19b7-4578-9134-b29c44092223",
   "metadata": {},
   "outputs": [
    {
     "name": "stdout",
     "output_type": "stream",
     "text": [
      "<class 'pandas.core.frame.DataFrame'>\n",
      "RangeIndex: 16 entries, 0 to 15\n",
      "Data columns (total 8 columns):\n",
      " #   Column           Non-Null Count  Dtype         \n",
      "---  ------           --------------  -----         \n",
      " 0   Session ID       16 non-null     object        \n",
      " 1   User ID          16 non-null     object        \n",
      " 2   Dish Name        16 non-null     object        \n",
      " 3   Meal Type        16 non-null     object        \n",
      " 4   Session Start    16 non-null     datetime64[ns]\n",
      " 5   Session End      16 non-null     datetime64[ns]\n",
      " 6   Duration (mins)  16 non-null     int64         \n",
      " 7   Session Rating   16 non-null     float64       \n",
      "dtypes: datetime64[ns](2), float64(1), int64(1), object(4)\n",
      "memory usage: 1.1+ KB\n"
     ]
    }
   ],
   "source": [
    "df1.info()"
   ]
  },
  {
   "cell_type": "code",
   "execution_count": 76,
   "id": "3b3d69dc-79ef-4d6f-9da1-8588789fa37f",
   "metadata": {},
   "outputs": [
    {
     "name": "stdout",
     "output_type": "stream",
     "text": [
      "<class 'pandas.core.frame.DataFrame'>\n",
      "RangeIndex: 16 entries, 0 to 15\n",
      "Data columns (total 10 columns):\n",
      " #   Column        Non-Null Count  Dtype         \n",
      "---  ------        --------------  -----         \n",
      " 0   Order ID      16 non-null     int64         \n",
      " 1   User ID       16 non-null     object        \n",
      " 2   Order Date    16 non-null     datetime64[ns]\n",
      " 3   Meal Type     16 non-null     object        \n",
      " 4   Dish Name     16 non-null     object        \n",
      " 5   Order Status  16 non-null     object        \n",
      " 6   Amount (USD)  16 non-null     float64       \n",
      " 7   Time of Day   16 non-null     object        \n",
      " 8   Rating        16 non-null     float64       \n",
      " 9   Session ID    16 non-null     object        \n",
      "dtypes: datetime64[ns](1), float64(2), int64(1), object(6)\n",
      "memory usage: 1.4+ KB\n"
     ]
    }
   ],
   "source": [
    "df2.info()"
   ]
  },
  {
   "cell_type": "markdown",
   "id": "4b215248-496e-421a-889f-d64406bea54e",
   "metadata": {},
   "source": []
  },
  {
   "cell_type": "code",
   "execution_count": 27,
   "id": "7fc72aaf-5f91-4622-bfb6-7da34de8a143",
   "metadata": {},
   "outputs": [],
   "source": [
    "\n",
    "# Merge UserDetails with CookingSessions on 'user_id'\n",
    "merged_data = pd.merge(df, df1, on='User ID', how='left')\n",
    "\n",
    "# Merge the resulting dataset with OrderDetails\n",
    "merged_data = pd.merge(merged_data, df2, on='User ID', how='left')\n"
   ]
  },
  {
   "cell_type": "code",
   "execution_count": 81,
   "id": "e08ee017-0e21-47d2-bded-d8c3f5d080b8",
   "metadata": {},
   "outputs": [
    {
     "data": {
      "text/html": [
       "<div>\n",
       "<style scoped>\n",
       "    .dataframe tbody tr th:only-of-type {\n",
       "        vertical-align: middle;\n",
       "    }\n",
       "\n",
       "    .dataframe tbody tr th {\n",
       "        vertical-align: top;\n",
       "    }\n",
       "\n",
       "    .dataframe thead th {\n",
       "        text-align: right;\n",
       "    }\n",
       "</style>\n",
       "<table border=\"1\" class=\"dataframe\">\n",
       "  <thead>\n",
       "    <tr style=\"text-align: right;\">\n",
       "      <th></th>\n",
       "      <th>User ID</th>\n",
       "      <th>User Name</th>\n",
       "      <th>Age</th>\n",
       "      <th>Location</th>\n",
       "      <th>Registration Date</th>\n",
       "      <th>Phone</th>\n",
       "      <th>Email</th>\n",
       "      <th>Favorite Meal</th>\n",
       "      <th>Total Orders</th>\n",
       "      <th>Session ID_x</th>\n",
       "      <th>...</th>\n",
       "      <th>Session Rating</th>\n",
       "      <th>Order ID</th>\n",
       "      <th>Order Date</th>\n",
       "      <th>Meal Type_y</th>\n",
       "      <th>Dish Name_y</th>\n",
       "      <th>Order Status</th>\n",
       "      <th>Amount (USD)</th>\n",
       "      <th>Time of Day</th>\n",
       "      <th>Rating</th>\n",
       "      <th>Session ID_y</th>\n",
       "    </tr>\n",
       "  </thead>\n",
       "  <tbody>\n",
       "    <tr>\n",
       "      <th>0</th>\n",
       "      <td>U001</td>\n",
       "      <td>Alice Johnson</td>\n",
       "      <td>28</td>\n",
       "      <td>New York</td>\n",
       "      <td>2023-01-15</td>\n",
       "      <td>123-456-7890</td>\n",
       "      <td>alice@email.com</td>\n",
       "      <td>Dinner</td>\n",
       "      <td>12</td>\n",
       "      <td>S001</td>\n",
       "      <td>...</td>\n",
       "      <td>4.5</td>\n",
       "      <td>1001.0</td>\n",
       "      <td>2024-12-01</td>\n",
       "      <td>Dinner</td>\n",
       "      <td>Spaghetti</td>\n",
       "      <td>Completed</td>\n",
       "      <td>15.0</td>\n",
       "      <td>Night</td>\n",
       "      <td>5.0</td>\n",
       "      <td>S001</td>\n",
       "    </tr>\n",
       "    <tr>\n",
       "      <th>1</th>\n",
       "      <td>U001</td>\n",
       "      <td>Alice Johnson</td>\n",
       "      <td>28</td>\n",
       "      <td>New York</td>\n",
       "      <td>2023-01-15</td>\n",
       "      <td>123-456-7890</td>\n",
       "      <td>alice@email.com</td>\n",
       "      <td>Dinner</td>\n",
       "      <td>12</td>\n",
       "      <td>S001</td>\n",
       "      <td>...</td>\n",
       "      <td>4.5</td>\n",
       "      <td>1004.0</td>\n",
       "      <td>2024-12-02</td>\n",
       "      <td>Breakfast</td>\n",
       "      <td>Pancakes</td>\n",
       "      <td>Completed</td>\n",
       "      <td>8.0</td>\n",
       "      <td>Morning</td>\n",
       "      <td>4.0</td>\n",
       "      <td>S004</td>\n",
       "    </tr>\n",
       "    <tr>\n",
       "      <th>2</th>\n",
       "      <td>U001</td>\n",
       "      <td>Alice Johnson</td>\n",
       "      <td>28</td>\n",
       "      <td>New York</td>\n",
       "      <td>2023-01-15</td>\n",
       "      <td>123-456-7890</td>\n",
       "      <td>alice@email.com</td>\n",
       "      <td>Dinner</td>\n",
       "      <td>12</td>\n",
       "      <td>S001</td>\n",
       "      <td>...</td>\n",
       "      <td>4.5</td>\n",
       "      <td>1009.0</td>\n",
       "      <td>2024-12-05</td>\n",
       "      <td>Dinner</td>\n",
       "      <td>Grilled Chicken</td>\n",
       "      <td>Completed</td>\n",
       "      <td>12.0</td>\n",
       "      <td>Night</td>\n",
       "      <td>5.0</td>\n",
       "      <td>S009</td>\n",
       "    </tr>\n",
       "    <tr>\n",
       "      <th>3</th>\n",
       "      <td>U001</td>\n",
       "      <td>Alice Johnson</td>\n",
       "      <td>28</td>\n",
       "      <td>New York</td>\n",
       "      <td>2023-01-15</td>\n",
       "      <td>123-456-7890</td>\n",
       "      <td>alice@email.com</td>\n",
       "      <td>Dinner</td>\n",
       "      <td>12</td>\n",
       "      <td>S004</td>\n",
       "      <td>...</td>\n",
       "      <td>4.2</td>\n",
       "      <td>1001.0</td>\n",
       "      <td>2024-12-01</td>\n",
       "      <td>Dinner</td>\n",
       "      <td>Spaghetti</td>\n",
       "      <td>Completed</td>\n",
       "      <td>15.0</td>\n",
       "      <td>Night</td>\n",
       "      <td>5.0</td>\n",
       "      <td>S001</td>\n",
       "    </tr>\n",
       "    <tr>\n",
       "      <th>4</th>\n",
       "      <td>U001</td>\n",
       "      <td>Alice Johnson</td>\n",
       "      <td>28</td>\n",
       "      <td>New York</td>\n",
       "      <td>2023-01-15</td>\n",
       "      <td>123-456-7890</td>\n",
       "      <td>alice@email.com</td>\n",
       "      <td>Dinner</td>\n",
       "      <td>12</td>\n",
       "      <td>S004</td>\n",
       "      <td>...</td>\n",
       "      <td>4.2</td>\n",
       "      <td>1004.0</td>\n",
       "      <td>2024-12-02</td>\n",
       "      <td>Breakfast</td>\n",
       "      <td>Pancakes</td>\n",
       "      <td>Completed</td>\n",
       "      <td>8.0</td>\n",
       "      <td>Morning</td>\n",
       "      <td>4.0</td>\n",
       "      <td>S004</td>\n",
       "    </tr>\n",
       "  </tbody>\n",
       "</table>\n",
       "<p>5 rows × 25 columns</p>\n",
       "</div>"
      ],
      "text/plain": [
       "  User ID      User Name  Age  Location Registration Date         Phone  \\\n",
       "0    U001  Alice Johnson   28  New York        2023-01-15  123-456-7890   \n",
       "1    U001  Alice Johnson   28  New York        2023-01-15  123-456-7890   \n",
       "2    U001  Alice Johnson   28  New York        2023-01-15  123-456-7890   \n",
       "3    U001  Alice Johnson   28  New York        2023-01-15  123-456-7890   \n",
       "4    U001  Alice Johnson   28  New York        2023-01-15  123-456-7890   \n",
       "\n",
       "             Email Favorite Meal  Total Orders Session ID_x  ...  \\\n",
       "0  alice@email.com        Dinner            12         S001  ...   \n",
       "1  alice@email.com        Dinner            12         S001  ...   \n",
       "2  alice@email.com        Dinner            12         S001  ...   \n",
       "3  alice@email.com        Dinner            12         S004  ...   \n",
       "4  alice@email.com        Dinner            12         S004  ...   \n",
       "\n",
       "  Session Rating Order ID Order Date Meal Type_y      Dish Name_y  \\\n",
       "0            4.5   1001.0 2024-12-01      Dinner        Spaghetti   \n",
       "1            4.5   1004.0 2024-12-02   Breakfast         Pancakes   \n",
       "2            4.5   1009.0 2024-12-05      Dinner  Grilled Chicken   \n",
       "3            4.2   1001.0 2024-12-01      Dinner        Spaghetti   \n",
       "4            4.2   1004.0 2024-12-02   Breakfast         Pancakes   \n",
       "\n",
       "   Order Status  Amount (USD) Time of Day Rating Session ID_y  \n",
       "0     Completed          15.0       Night    5.0         S001  \n",
       "1     Completed           8.0     Morning    4.0         S004  \n",
       "2     Completed          12.0       Night    5.0         S009  \n",
       "3     Completed          15.0       Night    5.0         S001  \n",
       "4     Completed           8.0     Morning    4.0         S004  \n",
       "\n",
       "[5 rows x 25 columns]"
      ]
     },
     "execution_count": 81,
     "metadata": {},
     "output_type": "execute_result"
    }
   ],
   "source": [
    "merged_data.head()"
   ]
  },
  {
   "cell_type": "code",
   "execution_count": 83,
   "id": "3598ce9d-da21-4795-a58a-2b33b52b1825",
   "metadata": {},
   "outputs": [
    {
     "data": {
      "text/html": [
       "<div>\n",
       "<style scoped>\n",
       "    .dataframe tbody tr th:only-of-type {\n",
       "        vertical-align: middle;\n",
       "    }\n",
       "\n",
       "    .dataframe tbody tr th {\n",
       "        vertical-align: top;\n",
       "    }\n",
       "\n",
       "    .dataframe thead th {\n",
       "        text-align: right;\n",
       "    }\n",
       "</style>\n",
       "<table border=\"1\" class=\"dataframe\">\n",
       "  <thead>\n",
       "    <tr style=\"text-align: right;\">\n",
       "      <th></th>\n",
       "      <th>0</th>\n",
       "    </tr>\n",
       "  </thead>\n",
       "  <tbody>\n",
       "    <tr>\n",
       "      <th>User ID</th>\n",
       "      <td>U001</td>\n",
       "    </tr>\n",
       "    <tr>\n",
       "      <th>User Name</th>\n",
       "      <td>Alice Johnson</td>\n",
       "    </tr>\n",
       "    <tr>\n",
       "      <th>Age</th>\n",
       "      <td>28</td>\n",
       "    </tr>\n",
       "    <tr>\n",
       "      <th>Location</th>\n",
       "      <td>New York</td>\n",
       "    </tr>\n",
       "    <tr>\n",
       "      <th>Registration Date</th>\n",
       "      <td>2023-01-15 00:00:00</td>\n",
       "    </tr>\n",
       "    <tr>\n",
       "      <th>Phone</th>\n",
       "      <td>123-456-7890</td>\n",
       "    </tr>\n",
       "    <tr>\n",
       "      <th>Email</th>\n",
       "      <td>alice@email.com</td>\n",
       "    </tr>\n",
       "    <tr>\n",
       "      <th>Favorite Meal</th>\n",
       "      <td>Dinner</td>\n",
       "    </tr>\n",
       "    <tr>\n",
       "      <th>Total Orders</th>\n",
       "      <td>12</td>\n",
       "    </tr>\n",
       "    <tr>\n",
       "      <th>Session ID_x</th>\n",
       "      <td>S001</td>\n",
       "    </tr>\n",
       "    <tr>\n",
       "      <th>Dish Name_x</th>\n",
       "      <td>Spaghetti</td>\n",
       "    </tr>\n",
       "    <tr>\n",
       "      <th>Meal Type_x</th>\n",
       "      <td>Dinner</td>\n",
       "    </tr>\n",
       "    <tr>\n",
       "      <th>Session Start</th>\n",
       "      <td>2024-12-01 19:00:00</td>\n",
       "    </tr>\n",
       "    <tr>\n",
       "      <th>Session End</th>\n",
       "      <td>2024-12-01 19:30:00</td>\n",
       "    </tr>\n",
       "    <tr>\n",
       "      <th>Duration (mins)</th>\n",
       "      <td>30.0</td>\n",
       "    </tr>\n",
       "    <tr>\n",
       "      <th>Session Rating</th>\n",
       "      <td>4.5</td>\n",
       "    </tr>\n",
       "    <tr>\n",
       "      <th>Order ID</th>\n",
       "      <td>1001.0</td>\n",
       "    </tr>\n",
       "    <tr>\n",
       "      <th>Order Date</th>\n",
       "      <td>2024-12-01 00:00:00</td>\n",
       "    </tr>\n",
       "    <tr>\n",
       "      <th>Meal Type_y</th>\n",
       "      <td>Dinner</td>\n",
       "    </tr>\n",
       "    <tr>\n",
       "      <th>Dish Name_y</th>\n",
       "      <td>Spaghetti</td>\n",
       "    </tr>\n",
       "    <tr>\n",
       "      <th>Order Status</th>\n",
       "      <td>Completed</td>\n",
       "    </tr>\n",
       "    <tr>\n",
       "      <th>Amount (USD)</th>\n",
       "      <td>15.0</td>\n",
       "    </tr>\n",
       "    <tr>\n",
       "      <th>Time of Day</th>\n",
       "      <td>Night</td>\n",
       "    </tr>\n",
       "    <tr>\n",
       "      <th>Rating</th>\n",
       "      <td>5.0</td>\n",
       "    </tr>\n",
       "    <tr>\n",
       "      <th>Session ID_y</th>\n",
       "      <td>S001</td>\n",
       "    </tr>\n",
       "  </tbody>\n",
       "</table>\n",
       "</div>"
      ],
      "text/plain": [
       "                                     0\n",
       "User ID                           U001\n",
       "User Name                Alice Johnson\n",
       "Age                                 28\n",
       "Location                      New York\n",
       "Registration Date  2023-01-15 00:00:00\n",
       "Phone                     123-456-7890\n",
       "Email                  alice@email.com\n",
       "Favorite Meal                   Dinner\n",
       "Total Orders                        12\n",
       "Session ID_x                      S001\n",
       "Dish Name_x                  Spaghetti\n",
       "Meal Type_x                     Dinner\n",
       "Session Start      2024-12-01 19:00:00\n",
       "Session End        2024-12-01 19:30:00\n",
       "Duration (mins)                   30.0\n",
       "Session Rating                     4.5\n",
       "Order ID                        1001.0\n",
       "Order Date         2024-12-01 00:00:00\n",
       "Meal Type_y                     Dinner\n",
       "Dish Name_y                  Spaghetti\n",
       "Order Status                 Completed\n",
       "Amount (USD)                      15.0\n",
       "Time of Day                      Night\n",
       "Rating                             5.0\n",
       "Session ID_y                      S001"
      ]
     },
     "execution_count": 83,
     "metadata": {},
     "output_type": "execute_result"
    }
   ],
   "source": [
    "merged_data.head(1).T"
   ]
  },
  {
   "cell_type": "code",
   "execution_count": 85,
   "id": "86faebda-c12c-4ac5-a501-98bcb366c96f",
   "metadata": {},
   "outputs": [],
   "source": [
    "dish_counts = merged_data['Dish Name_x'].value_counts()"
   ]
  },
  {
   "cell_type": "code",
   "execution_count": 87,
   "id": "a2674906-3e12-4752-8701-db9c4f5eb49b",
   "metadata": {},
   "outputs": [
    {
     "data": {
      "text/plain": [
       "Dish Name_x\n",
       "Spaghetti          9\n",
       "Grilled Chicken    9\n",
       "Caesar Salad       7\n",
       "Pancakes           6\n",
       "Veggie Burger      4\n",
       "Oatmeal            3\n",
       "Name: count, dtype: int64"
      ]
     },
     "execution_count": 87,
     "metadata": {},
     "output_type": "execute_result"
    }
   ],
   "source": [
    "dish_counts"
   ]
  },
  {
   "cell_type": "code",
   "execution_count": 97,
   "id": "267f37f9-3fd2-49e0-b14b-d9ae76405408",
   "metadata": {},
   "outputs": [],
   "source": [
    "avg_dish_ratings = merged_data.groupby('Dish Name_x')['Rating'].mean()"
   ]
  },
  {
   "cell_type": "code",
   "execution_count": 99,
   "id": "bf0d367c-2a5b-46e4-abb1-96092a8bc1d3",
   "metadata": {},
   "outputs": [
    {
     "data": {
      "text/plain": [
       "Dish Name_x\n",
       "Caesar Salad       4.000000\n",
       "Grilled Chicken    4.333333\n",
       "Oatmeal            4.000000\n",
       "Pancakes           4.333333\n",
       "Spaghetti          4.333333\n",
       "Veggie Burger      4.000000\n",
       "Name: Rating, dtype: float64"
      ]
     },
     "execution_count": 99,
     "metadata": {},
     "output_type": "execute_result"
    }
   ],
   "source": [
    "avg_dish_ratings"
   ]
  },
  {
   "cell_type": "code",
   "execution_count": 91,
   "id": "c3c6150e-52d1-4e19-aaff-c7cf7310e31b",
   "metadata": {},
   "outputs": [
    {
     "data": {
      "image/png": "[encoded data removed]",
      "text/plain": [
       "<Figure size 600x400 with 1 Axes>"
      ]
     },
     "metadata": {},
     "output_type": "display_data"
    }
   ],
   "source": [
    "\n",
    "plt.figure(figsize=(6, 4))\n",
    "sns.barplot(x=dish_counts.index, y=dish_counts.values)\n",
    "plt.title('Most Popular Dishes')\n",
    "plt.xlabel('Dish Name')\n",
    "plt.ylabel('Frequency')\n",
    "plt.xticks(rotation=45)\n",
    "plt.show()"
   ]
  },
  {
   "cell_type": "code",
   "execution_count": null,
   "id": "ac869693-497d-4202-bb5c-e101a9a7d7e7",
   "metadata": {},
   "outputs": [],
   "source": [
    "#  Grilled Chicken and Spaghetti are the most popular dishes and have highest average rating. These can be recommendaed to users"
   ]
  },
  {
   "cell_type": "code",
   "execution_count": 103,
   "id": "4ad42360-e897-4a7f-adfe-e4b95d886a5a",
   "metadata": {},
   "outputs": [],
   "source": [
    "meal_counts = merged_data['Meal Type_x'].value_counts()"
   ]
  },
  {
   "cell_type": "code",
   "execution_count": 105,
   "id": "f445904e-6210-4d7e-938d-0bd8b25a3346",
   "metadata": {},
   "outputs": [
    {
     "data": {
      "text/plain": [
       "Meal Type_x\n",
       "Dinner       18\n",
       "Lunch        11\n",
       "Breakfast     9\n",
       "Name: count, dtype: int64"
      ]
     },
     "execution_count": 105,
     "metadata": {},
     "output_type": "execute_result"
    }
   ],
   "source": [
    "meal_counts"
   ]
  },
  {
   "cell_type": "code",
   "execution_count": 107,
   "id": "3b1e034f-4a87-4182-8098-99902e6c824d",
   "metadata": {},
   "outputs": [],
   "source": [
    "avg_meal_ratings = merged_data.groupby('Meal Type_x')['Rating'].mean()"
   ]
  },
  {
   "cell_type": "code",
   "execution_count": 109,
   "id": "ce06ac04-cce6-4497-bb91-b366ae8ea25c",
   "metadata": {},
   "outputs": [
    {
     "data": {
      "text/plain": [
       "Meal Type_x\n",
       "Breakfast    4.222222\n",
       "Dinner       4.333333\n",
       "Lunch        4.000000\n",
       "Name: Rating, dtype: float64"
      ]
     },
     "execution_count": 109,
     "metadata": {},
     "output_type": "execute_result"
    }
   ],
   "source": [
    "avg_meal_ratings"
   ]
  },
  {
   "cell_type": "code",
   "execution_count": 111,
   "id": "b4e0a975-834b-4bab-9f21-5bb2b274610d",
   "metadata": {},
   "outputs": [
    {
     "data": {
      "image/png": "[encoded data removed]",
      "text/plain": [
       "<Figure size 600x400 with 1 Axes>"
      ]
     },
     "metadata": {},
     "output_type": "display_data"
    }
   ],
   "source": [
    "\n",
    "plt.figure(figsize=(6, 4))\n",
    "sns.barplot(x=meal_counts.index, y=meal_counts.values)\n",
    "plt.title('Most Popular Meal')\n",
    "plt.xlabel('Meal Name')\n",
    "plt.ylabel('Frequency')\n",
    "plt.xticks(rotation=45)\n",
    "plt.show()"
   ]
  },
  {
   "cell_type": "code",
   "execution_count": 209,
   "id": "ad7d2a66-1dde-4d45-a14d-da150aafc7a0",
   "metadata": {},
   "outputs": [],
   "source": [
    "#Dinner meal type is the more popular across users and with highest average rating."
   ]
  },
  {
   "cell_type": "code",
   "execution_count": 117,
   "id": "d21e0ab1-bdf1-45bb-be33-74982421f19e",
   "metadata": {
    "scrolled": true
   },
   "outputs": [
    {
     "name": "stdout",
     "output_type": "stream",
     "text": [
      "Age\n",
      "20-30    5\n",
      "30-40    4\n",
      "40-50    1\n",
      "Name: count, dtype: int64\n"
     ]
    }
   ],
   "source": [
    "\n",
    "# Age distribution (count of users in each age group)\n",
    "age_distribution = pd.cut(df['Age'], bins=[20, 30, 40, 50], labels=['20-30', '30-40', '40-50'])\n",
    "age_count = age_distribution.value_counts()\n",
    "\n",
    "# Display age distribution\n",
    "print(age_count)"
   ]
  },
  {
   "cell_type": "code",
   "execution_count": null,
   "id": "93a9b79f-5705-474c-bbb5-113339aee557",
   "metadata": {},
   "outputs": [],
   "source": [
    "#Young people are the frequent customer"
   ]
  },
  {
   "cell_type": "code",
   "execution_count": 37,
   "id": "722dd2dc-2a32-4c41-b4a5-9f30893d06a8",
   "metadata": {},
   "outputs": [
    {
     "data": {
      "text/plain": [
       "Age\n",
       "25     4.8\n",
       "27    18.8\n",
       "28    40.8\n",
       "29     0.0\n",
       "30    18.0\n",
       "31     4.3\n",
       "33     0.0\n",
       "35    37.2\n",
       "38     5.0\n",
       "42    41.4\n",
       "Name: Session Rating, dtype: float64"
      ]
     },
     "execution_count": 37,
     "metadata": {},
     "output_type": "execute_result"
    }
   ],
   "source": [
    "merged_data.groupby('Age')['Session Rating'].sum()"
   ]
  },
  {
   "cell_type": "code",
   "execution_count": 121,
   "id": "60748e52-2f79-421c-bc9b-c33126eaaabd",
   "metadata": {},
   "outputs": [
    {
     "data": {
      "image/png": "[encoded data removed]",
      "text/plain": [
       "<Figure size 800x600 with 1 Axes>"
      ]
     },
     "metadata": {},
     "output_type": "display_data"
    },
    {
     "data": {
      "image/png": "[encoded data removed]",
      "text/plain": [
       "<Figure size 800x600 with 1 Axes>"
      ]
     },
     "metadata": {},
     "output_type": "display_data"
    }
   ],
   "source": [
    "plt.figure(figsize=(8, 6))\n",
    "sns.lineplot(x='Age', y='Duration (mins)', data=merged_data)\n",
    "plt.title('Session Duration by Age Group')\n",
    "plt.show()\n",
    "\n",
    "# Boxplot for Session Rating by Age Group\n",
    "plt.figure(figsize=(8, 6))\n",
    "sns.lineplot(x='Age', y='Session Rating', data=merged_data)\n",
    "plt.title('Session Rating by Age Group')\n",
    "plt.show()"
   ]
  },
  {
   "cell_type": "code",
   "execution_count": null,
   "id": "09a6b38e-b44b-4ac8-bf73-281ac005757b",
   "metadata": {},
   "outputs": [],
   "source": [
    "# 30-35 age group people have been speant less duration and given less session rating compared to other age group"
   ]
  },
  {
   "cell_type": "code",
   "execution_count": 159,
   "id": "7a66ba24-5585-47e0-82ea-126db9eeea20",
   "metadata": {},
   "outputs": [
    {
     "data": {
      "text/plain": [
       "User ID\n",
       "U001    3\n",
       "U002    3\n",
       "U003    3\n",
       "U004    2\n",
       "U005    2\n",
       "U006    1\n",
       "U007    1\n",
       "U008    1\n",
       "Name: count, dtype: int64"
      ]
     },
     "execution_count": 159,
     "metadata": {},
     "output_type": "execute_result"
    }
   ],
   "source": [
    "df2['User ID'].value_counts()  #Total Orders per User  - most loyal customers"
   ]
  },
  {
   "cell_type": "code",
   "execution_count": 41,
   "id": "384f7207-38b9-42c8-a5b1-c69a67355f3b",
   "metadata": {},
   "outputs": [
    {
     "data": {
      "text/plain": [
       "0.689484531558072"
      ]
     },
     "execution_count": 41,
     "metadata": {},
     "output_type": "execute_result"
    }
   ],
   "source": [
    "df1['Duration (mins)'].corr(df1['Session Rating'])"
   ]
  },
  {
   "cell_type": "code",
   "execution_count": 165,
   "id": "51311e5a-16ea-4040-9399-ea04e23a020b",
   "metadata": {},
   "outputs": [
    {
     "name": "stdout",
     "output_type": "stream",
     "text": [
      "Average Session Duration by Meal Type:\n",
      " Meal Type\n",
      "Breakfast    23.333333\n",
      "Dinner       38.750000\n",
      "Lunch        21.000000\n",
      "Name: Duration (mins), dtype: float64\n"
     ]
    }
   ],
   "source": [
    "\n",
    "# Calculate average session duration by meal type\n",
    "avg_session_duration_by_meal = df1.groupby('Meal Type')['Duration (mins)'].mean()\n",
    "\n",
    "# Display the result\n",
    "print(\"Average Session Duration by Meal Type:\\n\", avg_session_duration_by_meal)"
   ]
  },
  {
   "cell_type": "code",
   "execution_count": null,
   "id": "3258aa5c-813d-4b4d-bdb9-c8c173f38735",
   "metadata": {},
   "outputs": [],
   "source": [
    "This shows the average session duration for each meal type. For instance, Dinner sessions are longer than Lunch or Breakfast sessions on average."
   ]
  },
  {
   "cell_type": "code",
   "execution_count": 173,
   "id": "85e1517e-c3c0-4a6e-9aaf-4303ec2b3f64",
   "metadata": {},
   "outputs": [
    {
     "name": "stdout",
     "output_type": "stream",
     "text": [
      "Correlation between session duration and session rating: 0.689484531558072\n"
     ]
    }
   ],
   "source": [
    "\n",
    "correlation_duration_rating = df1['Duration (mins)'].corr(df1['Session Rating'])\n",
    "\n",
    "print(f\"Correlation between session duration and session rating: {correlation_duration_rating}\")"
   ]
  },
  {
   "cell_type": "code",
   "execution_count": 125,
   "id": "d85b7070-ae12-4ae1-ba07-0a39a2581807",
   "metadata": {},
   "outputs": [],
   "source": [
    "import scipy.stats as stats"
   ]
  },
  {
   "cell_type": "code",
   "execution_count": null,
   "id": "6f388f94-5b78-4d06-998a-6d7fc3d9c463",
   "metadata": {},
   "outputs": [],
   "source": [
    "# Statistically test if session duration and session rating have significant correlation by performing two tailed test"
   ]
  },
  {
   "cell_type": "code",
   "execution_count": 127,
   "id": "f1aaec14-1959-4399-a2cd-bc8c01fbb3c3",
   "metadata": {},
   "outputs": [
    {
     "name": "stdout",
     "output_type": "stream",
     "text": [
      "Correlation coefficient: 0.689484531558072\n",
      "t-statistic: 3.5618023444159945\n",
      "p-value: 0.003126782203049183\n",
      "Reject the null hypothesis: There is a significant correlation between session duration and session rating.\n"
     ]
    }
   ],
   "source": [
    "r = df1['Duration (mins)'].corr(df1['Session Rating'])\n",
    "n = len(df1)  # Number of data points (sample size)\n",
    "\n",
    "# Calculate the t-statistic\n",
    "t_stat = r * (n - 2) ** 0.5 / (1 - r ** 2) ** 0.5\n",
    "\n",
    "# Degrees of freedom\n",
    "df = n - 2\n",
    "\n",
    "# Calculate the p-value for a two-tailed test\n",
    "p_value = 2 * (1 - stats.t.cdf(abs(t_stat), df))\n",
    "\n",
    "print(f\"Correlation coefficient: {r}\")\n",
    "print(f\"t-statistic: {t_stat}\")\n",
    "print(f\"p-value: {p_value}\")\n",
    "\n",
    "# Decision based on p-value\n",
    "alpha = 0.05  # Significance level\n",
    "if p_value < alpha:\n",
    "    print(\"Reject the null hypothesis: There is a significant correlation between session duration and session rating.\")\n",
    "else:\n",
    "     print(\"Fail to reject the null hypothesis: There is no significant correlation between session duration and session rating.\")"
   ]
  },
  {
   "cell_type": "code",
   "execution_count": 167,
   "id": "b91194c2-0a0a-4e1e-adb8-89ae32e9992c",
   "metadata": {},
   "outputs": [
    {
     "ename": "SyntaxError",
     "evalue": "invalid syntax (142294447.py, line 2)",
     "output_type": "error",
     "traceback": [
      "\u001b[1;36m  Cell \u001b[1;32mIn[167], line 2\u001b[1;36m\u001b[0m\n\u001b[1;33m    cooking sessions and user orders,\u001b[0m\n\u001b[1;37m            ^\u001b[0m\n\u001b[1;31mSyntaxError\u001b[0m\u001b[1;31m:\u001b[0m invalid syntax\n"
     ]
    }
   ],
   "source": [
    "#This shows incrreasing session duration have increased rating"
   ]
  },
  {
   "cell_type": "code",
   "execution_count": 181,
   "id": "06d7001e-e5c8-4848-94d3-831cae36fe97",
   "metadata": {},
   "outputs": [
    {
     "data": {
      "image/png": "[encoded data removed]",
      "text/plain": [
       "<Figure size 800x600 with 1 Axes>"
      ]
     },
     "metadata": {},
     "output_type": "display_data"
    }
   ],
   "source": [
    "# Scatter plot of Duration vs. Rating\n",
    "plt.figure(figsize=(8, 6))\n",
    "sns.lineplot(x=df1['Duration (mins)'], y=df1['Session Rating'])\n",
    "plt.title('Session Duration vs. Session Rating')\n",
    "plt.xlabel('Duration (mins)')\n",
    "plt.ylabel('Session Rating')\n",
    "plt.show()"
   ]
  },
  {
   "cell_type": "code",
   "execution_count": 189,
   "id": "d554cda0-e867-446c-b31e-9256bc4fd0e0",
   "metadata": {},
   "outputs": [
    {
     "data": {
      "text/html": [
       "<div>\n",
       "<style scoped>\n",
       "    .dataframe tbody tr th:only-of-type {\n",
       "        vertical-align: middle;\n",
       "    }\n",
       "\n",
       "    .dataframe tbody tr th {\n",
       "        vertical-align: top;\n",
       "    }\n",
       "\n",
       "    .dataframe thead th {\n",
       "        text-align: right;\n",
       "    }\n",
       "</style>\n",
       "<table border=\"1\" class=\"dataframe\">\n",
       "  <thead>\n",
       "    <tr style=\"text-align: right;\">\n",
       "      <th></th>\n",
       "      <th>Order ID</th>\n",
       "      <th>User ID</th>\n",
       "      <th>Order Date</th>\n",
       "      <th>Meal Type</th>\n",
       "      <th>Dish Name</th>\n",
       "      <th>Order Status</th>\n",
       "      <th>Amount (USD)</th>\n",
       "      <th>Time of Day</th>\n",
       "      <th>Rating</th>\n",
       "      <th>Session ID</th>\n",
       "    </tr>\n",
       "  </thead>\n",
       "  <tbody>\n",
       "    <tr>\n",
       "      <th>0</th>\n",
       "      <td>1001</td>\n",
       "      <td>U001</td>\n",
       "      <td>2024-12-01</td>\n",
       "      <td>Dinner</td>\n",
       "      <td>Spaghetti</td>\n",
       "      <td>Completed</td>\n",
       "      <td>15.0</td>\n",
       "      <td>Night</td>\n",
       "      <td>5.0</td>\n",
       "      <td>S001</td>\n",
       "    </tr>\n",
       "    <tr>\n",
       "      <th>1</th>\n",
       "      <td>1002</td>\n",
       "      <td>U002</td>\n",
       "      <td>2024-12-01</td>\n",
       "      <td>Lunch</td>\n",
       "      <td>Caesar Salad</td>\n",
       "      <td>Completed</td>\n",
       "      <td>10.0</td>\n",
       "      <td>Day</td>\n",
       "      <td>4.0</td>\n",
       "      <td>S002</td>\n",
       "    </tr>\n",
       "    <tr>\n",
       "      <th>2</th>\n",
       "      <td>1003</td>\n",
       "      <td>U003</td>\n",
       "      <td>2024-12-02</td>\n",
       "      <td>Dinner</td>\n",
       "      <td>Grilled Chicken</td>\n",
       "      <td>Canceled</td>\n",
       "      <td>12.5</td>\n",
       "      <td>Night</td>\n",
       "      <td>4.0</td>\n",
       "      <td>S003</td>\n",
       "    </tr>\n",
       "    <tr>\n",
       "      <th>3</th>\n",
       "      <td>1004</td>\n",
       "      <td>U001</td>\n",
       "      <td>2024-12-02</td>\n",
       "      <td>Breakfast</td>\n",
       "      <td>Pancakes</td>\n",
       "      <td>Completed</td>\n",
       "      <td>8.0</td>\n",
       "      <td>Morning</td>\n",
       "      <td>4.0</td>\n",
       "      <td>S004</td>\n",
       "    </tr>\n",
       "    <tr>\n",
       "      <th>4</th>\n",
       "      <td>1005</td>\n",
       "      <td>U004</td>\n",
       "      <td>2024-12-03</td>\n",
       "      <td>Lunch</td>\n",
       "      <td>Caesar Salad</td>\n",
       "      <td>Completed</td>\n",
       "      <td>9.0</td>\n",
       "      <td>Day</td>\n",
       "      <td>4.0</td>\n",
       "      <td>S005</td>\n",
       "    </tr>\n",
       "    <tr>\n",
       "      <th>5</th>\n",
       "      <td>1006</td>\n",
       "      <td>U002</td>\n",
       "      <td>2024-12-03</td>\n",
       "      <td>Dinner</td>\n",
       "      <td>Spaghetti</td>\n",
       "      <td>Completed</td>\n",
       "      <td>14.0</td>\n",
       "      <td>Night</td>\n",
       "      <td>4.0</td>\n",
       "      <td>S006</td>\n",
       "    </tr>\n",
       "    <tr>\n",
       "      <th>6</th>\n",
       "      <td>1007</td>\n",
       "      <td>U005</td>\n",
       "      <td>2024-12-04</td>\n",
       "      <td>Dinner</td>\n",
       "      <td>Grilled Chicken</td>\n",
       "      <td>Completed</td>\n",
       "      <td>13.5</td>\n",
       "      <td>Night</td>\n",
       "      <td>4.0</td>\n",
       "      <td>S007</td>\n",
       "    </tr>\n",
       "    <tr>\n",
       "      <th>7</th>\n",
       "      <td>1008</td>\n",
       "      <td>U003</td>\n",
       "      <td>2024-12-04</td>\n",
       "      <td>Lunch</td>\n",
       "      <td>Veggie Burger</td>\n",
       "      <td>Canceled</td>\n",
       "      <td>11.0</td>\n",
       "      <td>Day</td>\n",
       "      <td>4.0</td>\n",
       "      <td>S008</td>\n",
       "    </tr>\n",
       "    <tr>\n",
       "      <th>8</th>\n",
       "      <td>1009</td>\n",
       "      <td>U001</td>\n",
       "      <td>2024-12-05</td>\n",
       "      <td>Dinner</td>\n",
       "      <td>Grilled Chicken</td>\n",
       "      <td>Completed</td>\n",
       "      <td>12.0</td>\n",
       "      <td>Night</td>\n",
       "      <td>5.0</td>\n",
       "      <td>S009</td>\n",
       "    </tr>\n",
       "    <tr>\n",
       "      <th>9</th>\n",
       "      <td>1010</td>\n",
       "      <td>U002</td>\n",
       "      <td>2024-12-05</td>\n",
       "      <td>Breakfast</td>\n",
       "      <td>Oatmeal</td>\n",
       "      <td>Completed</td>\n",
       "      <td>7.0</td>\n",
       "      <td>Morning</td>\n",
       "      <td>4.0</td>\n",
       "      <td>S010</td>\n",
       "    </tr>\n",
       "    <tr>\n",
       "      <th>10</th>\n",
       "      <td>1011</td>\n",
       "      <td>U003</td>\n",
       "      <td>2024-12-06</td>\n",
       "      <td>Breakfast</td>\n",
       "      <td>Pancakes</td>\n",
       "      <td>Completed</td>\n",
       "      <td>8.5</td>\n",
       "      <td>Morning</td>\n",
       "      <td>4.0</td>\n",
       "      <td>S011</td>\n",
       "    </tr>\n",
       "    <tr>\n",
       "      <th>11</th>\n",
       "      <td>1012</td>\n",
       "      <td>U004</td>\n",
       "      <td>2024-12-06</td>\n",
       "      <td>Dinner</td>\n",
       "      <td>Spaghetti</td>\n",
       "      <td>Completed</td>\n",
       "      <td>12.5</td>\n",
       "      <td>Night</td>\n",
       "      <td>4.0</td>\n",
       "      <td>S012</td>\n",
       "    </tr>\n",
       "    <tr>\n",
       "      <th>12</th>\n",
       "      <td>1013</td>\n",
       "      <td>U005</td>\n",
       "      <td>2024-12-07</td>\n",
       "      <td>Lunch</td>\n",
       "      <td>Caesar Salad</td>\n",
       "      <td>Completed</td>\n",
       "      <td>9.0</td>\n",
       "      <td>Day</td>\n",
       "      <td>4.0</td>\n",
       "      <td>S013</td>\n",
       "    </tr>\n",
       "    <tr>\n",
       "      <th>13</th>\n",
       "      <td>1014</td>\n",
       "      <td>U006</td>\n",
       "      <td>2024-12-07</td>\n",
       "      <td>Dinner</td>\n",
       "      <td>Grilled Chicken</td>\n",
       "      <td>Completed</td>\n",
       "      <td>13.0</td>\n",
       "      <td>Night</td>\n",
       "      <td>5.0</td>\n",
       "      <td>S014</td>\n",
       "    </tr>\n",
       "    <tr>\n",
       "      <th>14</th>\n",
       "      <td>1015</td>\n",
       "      <td>U007</td>\n",
       "      <td>2024-12-08</td>\n",
       "      <td>Dinner</td>\n",
       "      <td>Spaghetti</td>\n",
       "      <td>Completed</td>\n",
       "      <td>14.0</td>\n",
       "      <td>Night</td>\n",
       "      <td>5.0</td>\n",
       "      <td>S015</td>\n",
       "    </tr>\n",
       "    <tr>\n",
       "      <th>15</th>\n",
       "      <td>1016</td>\n",
       "      <td>U008</td>\n",
       "      <td>2024-12-08</td>\n",
       "      <td>Lunch</td>\n",
       "      <td>Veggie Burger</td>\n",
       "      <td>Completed</td>\n",
       "      <td>11.0</td>\n",
       "      <td>Day</td>\n",
       "      <td>4.0</td>\n",
       "      <td>S016</td>\n",
       "    </tr>\n",
       "  </tbody>\n",
       "</table>\n",
       "</div>"
      ],
      "text/plain": [
       "    Order ID User ID Order Date  Meal Type        Dish Name Order Status  \\\n",
       "0       1001    U001 2024-12-01     Dinner        Spaghetti    Completed   \n",
       "1       1002    U002 2024-12-01      Lunch     Caesar Salad    Completed   \n",
       "2       1003    U003 2024-12-02     Dinner  Grilled Chicken     Canceled   \n",
       "3       1004    U001 2024-12-02  Breakfast         Pancakes    Completed   \n",
       "4       1005    U004 2024-12-03      Lunch     Caesar Salad    Completed   \n",
       "5       1006    U002 2024-12-03     Dinner        Spaghetti    Completed   \n",
       "6       1007    U005 2024-12-04     Dinner  Grilled Chicken    Completed   \n",
       "7       1008    U003 2024-12-04      Lunch    Veggie Burger     Canceled   \n",
       "8       1009    U001 2024-12-05     Dinner  Grilled Chicken    Completed   \n",
       "9       1010    U002 2024-12-05  Breakfast          Oatmeal    Completed   \n",
       "10      1011    U003 2024-12-06  Breakfast         Pancakes    Completed   \n",
       "11      1012    U004 2024-12-06     Dinner        Spaghetti    Completed   \n",
       "12      1013    U005 2024-12-07      Lunch     Caesar Salad    Completed   \n",
       "13      1014    U006 2024-12-07     Dinner  Grilled Chicken    Completed   \n",
       "14      1015    U007 2024-12-08     Dinner        Spaghetti    Completed   \n",
       "15      1016    U008 2024-12-08      Lunch    Veggie Burger    Completed   \n",
       "\n",
       "    Amount (USD) Time of Day  Rating Session ID  \n",
       "0           15.0       Night     5.0       S001  \n",
       "1           10.0         Day     4.0       S002  \n",
       "2           12.5       Night     4.0       S003  \n",
       "3            8.0     Morning     4.0       S004  \n",
       "4            9.0         Day     4.0       S005  \n",
       "5           14.0       Night     4.0       S006  \n",
       "6           13.5       Night     4.0       S007  \n",
       "7           11.0         Day     4.0       S008  \n",
       "8           12.0       Night     5.0       S009  \n",
       "9            7.0     Morning     4.0       S010  \n",
       "10           8.5     Morning     4.0       S011  \n",
       "11          12.5       Night     4.0       S012  \n",
       "12           9.0         Day     4.0       S013  \n",
       "13          13.0       Night     5.0       S014  \n",
       "14          14.0       Night     5.0       S015  \n",
       "15          11.0         Day     4.0       S016  "
      ]
     },
     "execution_count": 189,
     "metadata": {},
     "output_type": "execute_result"
    }
   ],
   "source": [
    "df2"
   ]
  },
  {
   "cell_type": "code",
   "execution_count": 226,
   "id": "f96814e3-dee1-4884-9f7c-76ca301c89bb",
   "metadata": {},
   "outputs": [
    {
     "data": {
      "text/plain": [
       "User ID\n",
       "U001    11.666667\n",
       "U002    10.333333\n",
       "U003    10.666667\n",
       "U004    10.750000\n",
       "U005    11.250000\n",
       "U006    13.000000\n",
       "U007    14.000000\n",
       "U008    11.000000\n",
       "Name: Amount (USD), dtype: float64"
      ]
     },
     "execution_count": 226,
     "metadata": {},
     "output_type": "execute_result"
    }
   ],
   "source": [
    "df2.groupby(['User ID'])['Amount (USD)'].mean()"
   ]
  },
  {
   "cell_type": "code",
   "execution_count": 135,
   "id": "29dfc329-0ad7-410d-a71d-39bd7e7d4dcf",
   "metadata": {},
   "outputs": [
    {
     "data": {
      "text/html": [
       "<div>\n",
       "<style scoped>\n",
       "    .dataframe tbody tr th:only-of-type {\n",
       "        vertical-align: middle;\n",
       "    }\n",
       "\n",
       "    .dataframe tbody tr th {\n",
       "        vertical-align: top;\n",
       "    }\n",
       "\n",
       "    .dataframe thead th {\n",
       "        text-align: right;\n",
       "    }\n",
       "</style>\n",
       "<table border=\"1\" class=\"dataframe\">\n",
       "  <thead>\n",
       "    <tr style=\"text-align: right;\">\n",
       "      <th></th>\n",
       "      <th>count</th>\n",
       "      <th>sum</th>\n",
       "    </tr>\n",
       "    <tr>\n",
       "      <th>User ID</th>\n",
       "      <th></th>\n",
       "      <th></th>\n",
       "    </tr>\n",
       "  </thead>\n",
       "  <tbody>\n",
       "    <tr>\n",
       "      <th>U001</th>\n",
       "      <td>3</td>\n",
       "      <td>35.0</td>\n",
       "    </tr>\n",
       "    <tr>\n",
       "      <th>U002</th>\n",
       "      <td>3</td>\n",
       "      <td>31.0</td>\n",
       "    </tr>\n",
       "    <tr>\n",
       "      <th>U003</th>\n",
       "      <td>3</td>\n",
       "      <td>32.0</td>\n",
       "    </tr>\n",
       "    <tr>\n",
       "      <th>U004</th>\n",
       "      <td>2</td>\n",
       "      <td>21.5</td>\n",
       "    </tr>\n",
       "    <tr>\n",
       "      <th>U005</th>\n",
       "      <td>2</td>\n",
       "      <td>22.5</td>\n",
       "    </tr>\n",
       "    <tr>\n",
       "      <th>U006</th>\n",
       "      <td>1</td>\n",
       "      <td>13.0</td>\n",
       "    </tr>\n",
       "    <tr>\n",
       "      <th>U007</th>\n",
       "      <td>1</td>\n",
       "      <td>14.0</td>\n",
       "    </tr>\n",
       "    <tr>\n",
       "      <th>U008</th>\n",
       "      <td>1</td>\n",
       "      <td>11.0</td>\n",
       "    </tr>\n",
       "  </tbody>\n",
       "</table>\n",
       "</div>"
      ],
      "text/plain": [
       "         count   sum\n",
       "User ID             \n",
       "U001         3  35.0\n",
       "U002         3  31.0\n",
       "U003         3  32.0\n",
       "U004         2  21.5\n",
       "U005         2  22.5\n",
       "U006         1  13.0\n",
       "U007         1  14.0\n",
       "U008         1  11.0"
      ]
     },
     "execution_count": 135,
     "metadata": {},
     "output_type": "execute_result"
    }
   ],
   "source": [
    "\n",
    "df2.groupby(['User ID'])['Amount (USD)'].aggregate(['count','sum'])"
   ]
  },
  {
   "cell_type": "code",
   "execution_count": 137,
   "id": "740c9855-3334-4815-b626-747091572627",
   "metadata": {},
   "outputs": [],
   "source": [
    "# U001,U002,U003 users ordered frequently and spent max amount on orders. "
   ]
  },
  {
   "cell_type": "code",
   "execution_count": null,
   "id": "a39d3bb6-2de4-408e-a13e-fd57aaf7ff97",
   "metadata": {},
   "outputs": [],
   "source": []
  }
 ],
 "metadata": {
  "kernelspec": {
   "display_name": "Python 3 (ipykernel)",
   "language": "python",
   "name": "python3"
  },
  "language_info": {
   "codemirror_mode": {
    "name": "ipython",
    "version": 3
   },
   "file_extension": ".py",
   "mimetype": "text/x-python",
   "name": "python",
   "nbconvert_exporter": "python",
   "pygments_lexer": "ipython3",
   "version": "3.12.4"
  }
 },
 "nbformat": 4,
 "nbformat_minor": 5
}
